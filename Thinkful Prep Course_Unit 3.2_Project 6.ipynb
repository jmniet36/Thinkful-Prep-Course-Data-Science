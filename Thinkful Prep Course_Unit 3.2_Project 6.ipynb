{
 "cells": [
  {
   "cell_type": "markdown",
   "metadata": {},
   "source": [
    "# Thinkful Prep Course: Unit 3.2\n",
    "## Project 6"
   ]
  },
  {
   "cell_type": "markdown",
   "metadata": {},
   "source": [
    "A diagnostic test has a 98% probability of giving a positive result when applied to a person suffering from Thripshaw's Disease, and 10% probability of giving a (false) positive when applied to a non-sufferer. It is estimated that 0.5 % of the population are sufferers. Suppose that the test is now administered to a person whose disease status is unknown. Calculate the probability that the test will:\n",
    "\n",
    "1. Be positive\n",
    "2. Correctly diagnose a sufferer of Thripshaw's\n",
    "3. Correctly identify a non-sufferer of Thripshaw's\n",
    "4. Misclassify the person"
   ]
  },
  {
   "cell_type": "markdown",
   "metadata": {},
   "source": [
    "<u><b>NOTES:</u></b>\n",
    "<p>P(A|B) = P(B|A) P(A) / P(B) = P(B|A) P(A) / P(A)(B|A) + P(A~)P(B|A~)\n",
    "    \n",
    "    A = sufferer\n",
    "    B = test positive\n",
    "    A~ = non-sufferer\n",
    "    B~ = negative test\n",
    "    \n",
    "    P(A) = P(sufferer) = .005\n",
    " \n",
    "    P(B|A) = P(sufferer) = .98\n",
    " \n",
    "    P(B|A~) = P(false positive) = .1\n",
    "  \n",
    "    "
   ]
  },
  {
   "cell_type": "code",
   "execution_count": 1,
   "metadata": {},
   "outputs": [],
   "source": [
    "# The values are:\n",
    "PA = .005\n",
    "PnotA = .995 #--> subracting PA from 100(100-.005=.995)\n",
    "PBA = .98\n",
    "PBnotA = .1"
   ]
  },
  {
   "cell_type": "markdown",
   "metadata": {},
   "source": [
    "### 1. Be positive"
   ]
  },
  {
   "cell_type": "code",
   "execution_count": 2,
   "metadata": {
    "scrolled": true
   },
   "outputs": [
    {
     "name": "stdout",
     "output_type": "stream",
     "text": [
      "10.44%\n"
     ]
    }
   ],
   "source": [
    "PB = PA*PBA + PnotA*PBnotA\n",
    "print(f'{round(100*PB,2)}%')"
   ]
  },
  {
   "cell_type": "markdown",
   "metadata": {},
   "source": [
    "### 2. Correctly diagnose a sufferer of Thripshaw's"
   ]
  },
  {
   "cell_type": "code",
   "execution_count": 3,
   "metadata": {},
   "outputs": [
    {
     "name": "stdout",
     "output_type": "stream",
     "text": [
      "98.0%\n"
     ]
    }
   ],
   "source": [
    "# P(B|A) = P(B|A)*P(A)/(P(B|A)*P(A))*P(B|A)*P(A~))\n",
    "print(f'{round(100*PBA,2)}%')"
   ]
  },
  {
   "cell_type": "markdown",
   "metadata": {},
   "source": [
    "### 3. Correctly identify a non-sufferer of Thripshaw's"
   ]
  },
  {
   "cell_type": "code",
   "execution_count": 4,
   "metadata": {},
   "outputs": [
    {
     "name": "stdout",
     "output_type": "stream",
     "text": [
      "90.0%\n"
     ]
    }
   ],
   "source": [
    "# P(B~|A~)=(P(A~)/(P(1-P((A)))\n",
    "\n",
    "PnotBnotA = 1 - PBnotA\n",
    "print(f'{round(100*PnotBnotA,2)}%')"
   ]
  },
  {
   "cell_type": "markdown",
   "metadata": {},
   "source": [
    "### 4. Misclassify the person"
   ]
  },
  {
   "cell_type": "code",
   "execution_count": 5,
   "metadata": {},
   "outputs": [
    {
     "name": "stdout",
     "output_type": "stream",
     "text": [
      "9.96%\n"
     ]
    }
   ],
   "source": [
    "# P(misclassify)=(1-(P(B|A)*P(A)+P(B~|A~)*P(A~))\n",
    "\n",
    "Pmisclassify = (1-(PBA*PA+PnotBnotA*PnotA))\n",
    "print(f'{round(100*Pmisclassify,4)}%')"
   ]
  }
 ],
 "metadata": {
  "kernelspec": {
   "display_name": "Python 3",
   "language": "python",
   "name": "python3"
  },
  "language_info": {
   "codemirror_mode": {
    "name": "ipython",
    "version": 3
   },
   "file_extension": ".py",
   "mimetype": "text/x-python",
   "name": "python",
   "nbconvert_exporter": "python",
   "pygments_lexer": "ipython3",
   "version": "3.7.1"
  }
 },
 "nbformat": 4,
 "nbformat_minor": 2
}
