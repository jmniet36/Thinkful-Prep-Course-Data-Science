{
 "cells": [
  {
   "cell_type": "markdown",
   "metadata": {},
   "source": [
    "# Thinkful Prep Course: Unit 3.3\n",
    "## Project 7: Exploring the Central Limit Theorem"
   ]
  },
  {
   "cell_type": "markdown",
   "metadata": {},
   "source": [
    "Using your own Jupyter notebook, or a copy of the notebook from the previous assignment, reproduce the <i>pop1</i> and <i>pop2</i> populations and samples, using numpy's binomial function. Specifically, create two binomially distributed populations with n equal to 10 and size equal to 10000. The p-value of <i>pop1</i> should be 0.2 and the p-value of  <i>pop2</i> should be 0.5. Using a sample size of 100, calculate the means and standard deviations of your samples."
   ]
  },
  {
   "cell_type": "markdown",
   "metadata": {},
   "source": [
    "1. Increase the size of your samples from 100 to 1000, then calculate the means and standard deviations for your new samples and create histograms for each. Repeat this again, decreasing the size of your samples to 20. What values change, and what remain the same?\n",
    "\n",
    "2. Change the probability value (p in the NumPy documentation) for pop1 to 0.3, then take new samples and compute the t-statistic and p-value. Then change the probability value p for group 1 to 0.4, and do it again. What changes, and why?\n",
    "\n",
    "3. Change the distribution of your populations from binomial to a distribution of your choice. Do the sample mean values still accurately represent the population values?"
   ]
  },
  {
   "cell_type": "code",
   "execution_count": 1,
   "metadata": {},
   "outputs": [],
   "source": [
    "import numpy as np\n",
    "import pandas as pd\n",
    "import statistics\n",
    "from scipy.stats import ttest_ind\n",
    "import matplotlib.pyplot as plt\n",
    "%matplotlib inline"
   ]
  },
  {
   "cell_type": "markdown",
   "metadata": {},
   "source": [
    "### Population Size 100"
   ]
  },
  {
   "cell_type": "code",
   "execution_count": 2,
   "metadata": {},
   "outputs": [
    {
     "name": "stdout",
     "output_type": "stream",
     "text": [
      "The mean of sample1 is: 2.1\n",
      "   with standard deviation of: 1.2041594578792296\n",
      "The mean of sample2 is: 5.08\n",
      "   with standard deviation of: 1.730202300310573\n"
     ]
    }
   ],
   "source": [
    "# Creating a random sample size of 100\n",
    "pop1 = np.random.binomial(10, 0.2, 10000)\n",
    "pop2 = np.random.binomial(10,0.5, 10000) \n",
    "\n",
    "sample1 = np.random.choice(pop1, 100, replace=True)\n",
    "sample2 = np.random.choice(pop2, 100, replace=True)\n",
    "\n",
    "# Calculating means and standard deviation.\n",
    "print('The mean of sample1 is:',sample1.mean())\n",
    "print('   with standard deviation of:',sample1.std())\n",
    "print('The mean of sample2 is:',sample2.mean())\n",
    "print('   with standard deviation of:',sample2.std())\n",
    "\n",
    "plt.show()"
   ]
  },
  {
   "cell_type": "markdown",
   "metadata": {},
   "source": [
    "### Population Size 1000 and 20"
   ]
  },
  {
   "cell_type": "code",
   "execution_count": 13,
   "metadata": {},
   "outputs": [
    {
     "name": "stdout",
     "output_type": "stream",
     "text": [
      "\u001b[1mSample Size 1000:\u001b[0m\n",
      "The mean of sample3 is: 2.0188701799836015\n",
      "   with standard deviation of: 0.6391653771937036\n",
      "The mean of sample4 is: 4.9767383460099754\n",
      "   with standard deviation of: 1.5726274530314484\n"
     ]
    },
    {
     "data": {
      "image/png": "[encoded data removed]",
      "text/plain": [
       "<Figure size 432x288 with 1 Axes>"
      ]
     },
     "metadata": {
      "needs_background": "light"
     },
     "output_type": "display_data"
    },
    {
     "name": "stdout",
     "output_type": "stream",
     "text": [
      "\u001b[1mSample Size 20:\u001b[0m\n",
      "The mean of sample5 is: 2.083159982292894\n",
      "   with standard deviation of: 0.5384944367334952\n",
      "The mean of sample6 is: 4.163501018143751\n",
      "   with standard deviation of: 1.335933114112753\n"
     ]
    },
    {
     "data": {
      "image/png": "[encoded data removed]",
      "text/plain": [
       "<Figure size 432x288 with 1 Axes>"
      ]
     },
     "metadata": {
      "needs_background": "light"
     },
     "output_type": "display_data"
    }
   ],
   "source": [
    "# Increasing sample size to 1000.\n",
    "sample3 = np.random.choice(pop1, 1000, replace=True)\n",
    "sample4 = np.random.choice(pop2, 1000, replace=True)\n",
    "\n",
    "print('\\033[1m'+'Sample Size 1000:'+'\\033[0m')\n",
    "print('The mean of sample3 is:',sample3.mean())\n",
    "print('   with standard deviation of:',sample3.std())\n",
    "print('The mean of sample4 is:',sample4.mean())\n",
    "print('   with standard deviation of:',sample4.std())\n",
    "\n",
    "# Plotting the histogram.\n",
    "plt.hist(sample3, alpha=0.5, label='sample 3',color='red') \n",
    "plt.hist(sample4, alpha=0.5, label='sample 4') \n",
    "plt.legend(loc='upper right')\n",
    "plt.title('Sample Size 1000')\n",
    "plt.show()\n",
    "\n",
    "# Decreasing sample size to 20.\n",
    "sample5 = np.random.choice(pop1, 20, replace=True)\n",
    "sample6 = np.random.choice(pop2, 20, replace=True)\n",
    "\n",
    "print('\\033[1m'+'Sample Size 20:'+'\\033[0m')\n",
    "print('The mean of sample5 is:',sample5.mean())\n",
    "print('   with standard deviation of:',sample5.std())\n",
    "print('The mean of sample6 is:',sample6.mean())\n",
    "print('   with standard deviation of:',sample6.std())\n",
    "\n",
    "# Plotting the histogram.\n",
    "plt.hist(sample5, alpha=0.5, label='sample 5',color='yellow') \n",
    "plt.hist(sample6, alpha=0.5, label='sample 6',color='purple') \n",
    "plt.legend(loc='upper right')\n",
    "plt.title('Sample Size 20')\n",
    "plt.show()"
   ]
  },
  {
   "cell_type": "markdown",
   "metadata": {},
   "source": [
    "The mean for the sample size of 1000 did not really change as the sample size decreased to 20. However, the standard deviation appears to be affected more than the mean as it increases when the sample size drops. This might be because as the sampe size drecreases the possibility of outliers is increased possibly causing more spread data. "
   ]
  },
  {
   "cell_type": "markdown",
   "metadata": {},
   "source": [
    "### Calculating T-Test and P-Value"
   ]
  },
  {
   "cell_type": "code",
   "execution_count": 7,
   "metadata": {},
   "outputs": [
    {
     "name": "stdout",
     "output_type": "stream",
     "text": [
      "Ttest_indResult(statistic=9.712349672361317, pvalue=1.7834904425908477e-18)\n"
     ]
    }
   ],
   "source": [
    "# Pop1 p = .3\n",
    "pop1 = np.random.binomial(10, 0.3, 10000)\n",
    "pop2 = np.random.binomial(10,0.5, 10000) \n",
    "\n",
    "sample1 = np.random.choice(pop1, 100, replace=True)\n",
    "sample2 = np.random.choice(pop2, 100, replace=True)\n",
    "\n",
    "\n",
    "print(ttest_ind(sample2, sample1, equal_var=False))\n",
    "\n"
   ]
  },
  {
   "cell_type": "code",
   "execution_count": 6,
   "metadata": {},
   "outputs": [
    {
     "name": "stdout",
     "output_type": "stream",
     "text": [
      "Ttest_indResult(statistic=4.3160664219371245, pvalue=2.514081405503419e-05)\n"
     ]
    }
   ],
   "source": [
    "# Pop1 p = .4\n",
    "pop1 = np.random.binomial(10, 0.4, 10000)\n",
    "pop2 = np.random.binomial(10,0.5, 10000) \n",
    "\n",
    "sample1 = np.random.choice(pop1, 100, replace=True)\n",
    "sample2 = np.random.choice(pop2, 100, replace=True)\n",
    "\n",
    "print(ttest_ind(sample2, sample1, equal_var=False))"
   ]
  },
  {
   "cell_type": "markdown",
   "metadata": {},
   "source": [
    "When changing the the probability value from .3 to .4, the t-value decreases while the pvalue increases. This probably indicates that a higher probability value will decrease the probability that the sample size is reflective of the overall population."
   ]
  },
  {
   "cell_type": "markdown",
   "metadata": {},
   "source": [
    "### Changing the Distributions"
   ]
  },
  {
   "cell_type": "code",
   "execution_count": 17,
   "metadata": {},
   "outputs": [
    {
     "name": "stdout",
     "output_type": "stream",
     "text": [
      "The mean of sample7 is: 2.0188701799836015\n",
      "   with standard deviation of: 0.6391653771937036\n",
      "The mean of sample7 is: 4.9767383460099754\n",
      "   with standard deviation of: 1.5726274530314484\n"
     ]
    },
    {
     "data": {
      "image/png": "[encoded data removed]",
      "text/plain": [
       "<Figure size 432x288 with 1 Axes>"
      ]
     },
     "metadata": {
      "needs_background": "light"
     },
     "output_type": "display_data"
    }
   ],
   "source": [
    "# Changing the distribution type to gamma.\n",
    "pop1 = np.random.gamma(10, 0.2, 10000)\n",
    "pop2 = np.random.gamma(10,0.5, 10000) \n",
    "\n",
    "sample7 = np.random.choice(pop1, 1000, replace=True)\n",
    "sample8 = np.random.choice(pop2, 1000, replace=True)\n",
    "\n",
    "print('The mean of sample7 is:',sample3.mean())\n",
    "print('   with standard deviation of:',sample3.std())\n",
    "print('The mean of sample7 is:',sample4.mean())\n",
    "print('   with standard deviation of:',sample4.std())\n",
    "\n",
    "# Plotting the histogram for a gamma distribution.\n",
    "plt.hist(sample7, alpha=0.5, label='sample 7',color='orange') \n",
    "plt.hist(sample8, alpha=0.5, label='sample 8') \n",
    "plt.legend(loc='upper right')\n",
    "plt.title('Gamma Distribution: Sample Size 1000')\n",
    "plt.show()"
   ]
  },
  {
   "cell_type": "markdown",
   "metadata": {},
   "source": [
    "The Central Limit Theorem says that when sampling from a population, the distribution does not matter like the sample size. Regardless of the type of distribution selected, the sample mean will most likely follow a normal probability curve that centers around the true population mean the larger the sampe size gets. As displayed above, both the gamma and binomial distribution of a 1000 poulation size are very similar."
   ]
  }
 ],
 "metadata": {
  "kernelspec": {
   "display_name": "Python 3",
   "language": "python",
   "name": "python3"
  },
  "language_info": {
   "codemirror_mode": {
    "name": "ipython",
    "version": 3
   },
   "file_extension": ".py",
   "mimetype": "text/x-python",
   "name": "python",
   "nbconvert_exporter": "python",
   "pygments_lexer": "ipython3",
   "version": "3.7.1"
  }
 },
 "nbformat": 4,
 "nbformat_minor": 2
}
