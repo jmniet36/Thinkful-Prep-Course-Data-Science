{
 "cells": [
  {
   "cell_type": "markdown",
   "metadata": {},
   "source": [
    "# Thinkful Prep Course: Unit 3.1\n",
    "## Project 5: Describing Data"
   ]
  },
  {
   "cell_type": "code",
   "execution_count": 27,
   "metadata": {},
   "outputs": [],
   "source": [
    "import pandas as pd\n",
    "import numpy as np\n",
    "import statistics as statistics"
   ]
  },
  {
   "cell_type": "markdown",
   "metadata": {},
   "source": [
    "#### 1. Greg was 14, Marcia was 12, Peter was 11, Jan was 10, Bobby was 8, and Cindy was 6 when they started playing the Brady kids on The Brady Bunch. Cousin Oliver was 8 years old when he joined the show. What are the mean, median, and mode of the kids' ages when they first appeared on the show? What are the variance, standard deviation, and standard error?"
   ]
  },
  {
   "cell_type": "code",
   "execution_count": 28,
   "metadata": {},
   "outputs": [
    {
     "data": {
      "text/html": [
       "<div>\n",
       "<style scoped>\n",
       "    .dataframe tbody tr th:only-of-type {\n",
       "        vertical-align: middle;\n",
       "    }\n",
       "\n",
       "    .dataframe tbody tr th {\n",
       "        vertical-align: top;\n",
       "    }\n",
       "\n",
       "    .dataframe thead th {\n",
       "        text-align: right;\n",
       "    }\n",
       "</style>\n",
       "<table border=\"1\" class=\"dataframe\">\n",
       "  <thead>\n",
       "    <tr style=\"text-align: right;\">\n",
       "      <th></th>\n",
       "      <th>Name</th>\n",
       "      <th>Age</th>\n",
       "    </tr>\n",
       "  </thead>\n",
       "  <tbody>\n",
       "    <tr>\n",
       "      <th>0</th>\n",
       "      <td>Greg</td>\n",
       "      <td>14</td>\n",
       "    </tr>\n",
       "    <tr>\n",
       "      <th>1</th>\n",
       "      <td>Marcia</td>\n",
       "      <td>12</td>\n",
       "    </tr>\n",
       "    <tr>\n",
       "      <th>2</th>\n",
       "      <td>Peter</td>\n",
       "      <td>11</td>\n",
       "    </tr>\n",
       "    <tr>\n",
       "      <th>3</th>\n",
       "      <td>Jan</td>\n",
       "      <td>10</td>\n",
       "    </tr>\n",
       "    <tr>\n",
       "      <th>4</th>\n",
       "      <td>Bobby</td>\n",
       "      <td>8</td>\n",
       "    </tr>\n",
       "    <tr>\n",
       "      <th>5</th>\n",
       "      <td>Cindy</td>\n",
       "      <td>6</td>\n",
       "    </tr>\n",
       "    <tr>\n",
       "      <th>6</th>\n",
       "      <td>Cousin Oliver</td>\n",
       "      <td>8</td>\n",
       "    </tr>\n",
       "  </tbody>\n",
       "</table>\n",
       "</div>"
      ],
      "text/plain": [
       "            Name  Age\n",
       "0           Greg   14\n",
       "1         Marcia   12\n",
       "2          Peter   11\n",
       "3            Jan   10\n",
       "4          Bobby    8\n",
       "5          Cindy    6\n",
       "6  Cousin Oliver    8"
      ]
     },
     "execution_count": 28,
     "metadata": {},
     "output_type": "execute_result"
    }
   ],
   "source": [
    "df = pd.DataFrame([['Greg',14],\n",
    "                   ['Marcia',12,],\n",
    "                   ['Peter',11],\n",
    "                   ['Jan',10],\n",
    "                   ['Bobby',8],\n",
    "                   ['Cindy',6],\n",
    "                   ['Cousin Oliver',8]])\n",
    "df.columns = (['Name','Age'])\n",
    "df"
   ]
  },
  {
   "cell_type": "code",
   "execution_count": 29,
   "metadata": {},
   "outputs": [
    {
     "name": "stdout",
     "output_type": "stream",
     "text": [
      "When the kids started the show:\n",
      "The mean age was 9.86\n",
      "The median was 10.0\n",
      "The mode was 8\n",
      "\n",
      "The variance is 6.41\n",
      "The standard deviation is 2.53\n",
      "The standard error is 0.96\n"
     ]
    }
   ],
   "source": [
    "#THE STATISTICS\n",
    "mean = np.mean(df['Age'])\n",
    "median = np.median(df['Age'])\n",
    "mode = statistics.mode(df['Age'])\n",
    "variance = np.var(df['Age'])\n",
    "std = np.std(df['Age'])\n",
    "n = len(df)\n",
    "se = std/(n**.5)\n",
    "\n",
    "#Print the results\n",
    "print('When the kids started the show:\\nThe mean age was {}\\nThe median was {}\\nThe mode was {}'.\n",
    "      format(round(mean, 2), median, mode))\n",
    "print ('\\nThe variance is {}\\nThe standard deviation is {}\\nThe standard error is {}'.\n",
    "       format(round(variance, 2), round(std, 2), round(se, 2)))"
   ]
  },
  {
   "cell_type": "markdown",
   "metadata": {},
   "source": [
    "#### 2. Using these estimates, if you had to choose only one estimate of central tendency and one estimate of variance to describe the data, which would you pick and why?"
   ]
  },
  {
   "cell_type": "markdown",
   "metadata": {},
   "source": [
    "If I had to pick one estimate of central tendency I would pick the mean because it will be the best representation of data. Both the mean and the median are the close with less than 2 years difference. There are no outliers in the set to skew the data.\n",
    "\n",
    "For estimate in variance, I would select the standard deviations to describe the data. Apart from Bobby and Cousin Oliver, who are the same age, the difference between the next olderst is 1-2 years; relatively the same as the standard deviation."
   ]
  },
  {
   "cell_type": "markdown",
   "metadata": {},
   "source": [
    "#### 3. Next, Cindy has a birthday. Update your estimates- what changed, and what didn't?"
   ]
  },
  {
   "cell_type": "code",
   "execution_count": 30,
   "metadata": {},
   "outputs": [
    {
     "name": "stdout",
     "output_type": "stream",
     "text": [
      "When Cindy has a birthday:\n",
      "The mean is 10.0\n",
      "The median is 10.0\n",
      "The mode was 8\n",
      "\n",
      "The variance is 6.41\n",
      "The standard deviation is 2.33\n",
      "The standard error is 0.88\n"
     ]
    }
   ],
   "source": [
    "df2 = pd.DataFrame([['Greg',14],\n",
    "                    ['Marcia',12,],\n",
    "                    ['Peter',11],\n",
    "                    ['Jan',10],\n",
    "                    ['Bobby',8],\n",
    "                    ['Cindy',7],\n",
    "                    ['Cousin Oliver',8]])\n",
    "df2.columns = (['Name','Age'])\n",
    "\n",
    "#THE STATISTICS\n",
    "mean = np.mean(df2['Age'])\n",
    "median = np.median(df['Age'])\n",
    "mode = statistics.mode(df2['Age'])\n",
    "variance = np.var(df['Age'])\n",
    "std = np.std(df2['Age'])\n",
    "n = len(df2)\n",
    "se = std/(n**.5)\n",
    "\n",
    "#Print the results\n",
    "print('When Cindy has a birthday:\\nThe mean is {}\\nThe median is {}\\nThe mode was {}'.\n",
    "      format(round(mean, 2), median, mode))\n",
    "print ('\\nThe variance is {}\\nThe standard deviation is {}\\nThe standard error is {}'.\n",
    "       format(round(variance, 2), round(std, 2), round(se, 2)))"
   ]
  },
  {
   "cell_type": "markdown",
   "metadata": {},
   "source": [
    "The change in data is not that significant. When Cindy turns 7 central tendency statistics did not change significantly with the mean only increasing by .14 and the mode and median remaining the same.\n",
    "\n",
    "Cindy's birthday causes the minimum age to change as she is the youngest in the data set. As the ages come closer together, the deviatoin and standar error also decrease. "
   ]
  },
  {
   "cell_type": "markdown",
   "metadata": {},
   "source": [
    "#### 4. Nobody likes Cousin Oliver. Maybe the network should have used an even younger actor. Replace Cousin Oliver with 1-year-old Jessica, then recalculate again. Does this change your choice of central tendency or variance estimation methods?"
   ]
  },
  {
   "cell_type": "code",
   "execution_count": 31,
   "metadata": {},
   "outputs": [
    {
     "name": "stdout",
     "output_type": "stream",
     "text": [
      "When the kids started the show:\n",
      "The mean age was 9.86\n",
      "The median was 10.0\n",
      "The mode was 8\n",
      "\n",
      "The variance is 15.43\n",
      "The standard deviation is 3.93\n",
      "The standard error is 1.48\n"
     ]
    }
   ],
   "source": [
    "df2.iloc[6,:] =('Jessica',1)\n",
    "\n",
    "#THE STATISTICS\n",
    "mean = np.mean(df['Age'])\n",
    "median = np.median(df2['Age'])\n",
    "#mode = statistical error because there is no re-occuring number in the data.\n",
    "variance = np.var(df2['Age'])\n",
    "std = np.std(df2['Age'])\n",
    "n = len(df2)\n",
    "se = std/(n**.5)\n",
    "\n",
    "#Print update results\n",
    "print('When the kids started the show:\\nThe mean age was {}\\nThe median was {}\\nThe mode was {}'.\n",
    "      format(round(mean, 2), median, mode))\n",
    "print ('\\nThe variance is {}\\nThe standard deviation is {}\\nThe standard error is {}'.\n",
    "       format(round(variance, 2), round(std, 2), round(se, 2)))"
   ]
  },
  {
   "cell_type": "markdown",
   "metadata": {},
   "source": [
    "Jessica's age is not close to any others of the Brady Bunch kids and can be considered an outlier in the data set. As we can see, the introduction of this outlier to the data set has caused the mean to be affected. The median age was not affected at all as the population size remained the same and the replaced child was not in the center of the data set. \n",
    "\n",
    "The new information does not change the answer given in question 1 as what measures of central tendency or variance estimation methods."
   ]
  },
  {
   "cell_type": "markdown",
   "metadata": {},
   "source": [
    "#### 5. On the 50th anniversary of The Brady Bunch, four different magazines asked their readers whether they were fans of the show. The answers were: TV Guide 20% fans Entertainment Weekly 23% fans Pop Culture Today 17% fans SciPhi Phanatic 5% fans. Based on these numbers, what percentage of adult Americans would you estimate were Brady Bunch fans on the 50th anniversary of the show?"
   ]
  },
  {
   "cell_type": "markdown",
   "metadata": {},
   "source": [
    "Using the information above, I would estimate the mean of the percentage of Tv Guide ,Entertainment Weekly, and Pop Culture fans 0r 20% of Adult Americans were Brad Bunch fans on the 50th Anniversary of the show. I would exclude SciPhi Phanatic as an outlier in the data. "
   ]
  }
 ],
 "metadata": {
  "kernelspec": {
   "display_name": "Python 3",
   "language": "python",
   "name": "python3"
  },
  "language_info": {
   "codemirror_mode": {
    "name": "ipython",
    "version": 3
   },
   "file_extension": ".py",
   "mimetype": "text/x-python",
   "name": "python",
   "nbconvert_exporter": "python",
   "pygments_lexer": "ipython3",
   "version": "3.7.1"
  }
 },
 "nbformat": 4,
 "nbformat_minor": 2
}
