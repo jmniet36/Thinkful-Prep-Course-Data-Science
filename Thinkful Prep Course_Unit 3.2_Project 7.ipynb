{
 "cells": [
  {
   "cell_type": "markdown",
   "metadata": {},
   "source": [
    "# Thinkful Prep Course: Unit 3.2¶\n",
    "## Project 6\n",
    "\n",
    "\n",
    "\n",
    "In each of the scenarios, find possible shortcomings of the theoretical or actual data sources to answer the given question. What could be done to either adjust the analysis or reframe the question so that you can answer it accurately?"
   ]
  },
  {
   "cell_type": "markdown",
   "metadata": {},
   "source": [
    "<b>1. Data Source:</b> Amsterdam availability data scraped from AirBnB on December 24th. \n",
    "\n",
    "<b>Question:</b> What are the popular neighborhoods in Amsterdam?\n",
    "\n",
    "<i><b>Answer:</b> The sampling period is not ideal for determining what the most popular neighborhods are from data scraped on December 24. That day is Christmas and either there will be more people than normal booking AirBnBs or there will be less AirBnBs to book as fewer hosts share their home during the holiday. \n",
    "<hr>"
   ]
  },
  {
   "cell_type": "markdown",
   "metadata": {},
   "source": [
    "<b>2. Data Source:</b> Mental health services use on September 12, 2001 in San Francisco, CA and New York City, NY. \n",
    "\n",
    "<b>Question:</b> How do patterns of mental health service use vary between cities?\n",
    "\n",
    "<i><b>Answer:</b> Given the 9/11 attack in New York City, the data will most likely be very different in the two cities on 9/12/2001 even if they held similarities on 9/10/2001. The data could be used to compare the mental health services used in a locations nearby versus distant area where a major incident happend. \n",
    "<hr>"
   ]
  },
  {
   "cell_type": "markdown",
   "metadata": {},
   "source": [
    "<b>3. Data Source:</b> Armenian Pub Survey. \n",
    "\n",
    "<b>Question:</b> What are the most common reasons Armenians visit local pubs?\n",
    "\n",
    "<i><b>Answer:</b> The data in this study group skews heaviy younger with the vast majority (70%) bieng students. It would be more appropriate if the question was \"what are the most common reason <u>students</u> are visiting local pubs?\".\n",
    "<hr>"
   ]
  }
 ],
 "metadata": {
  "kernelspec": {
   "display_name": "Python 3",
   "language": "python",
   "name": "python3"
  },
  "language_info": {
   "codemirror_mode": {
    "name": "ipython",
    "version": 3
   },
   "file_extension": ".py",
   "mimetype": "text/x-python",
   "name": "python",
   "nbconvert_exporter": "python",
   "pygments_lexer": "ipython3",
   "version": "3.7.1"
  }
 },
 "nbformat": 4,
 "nbformat_minor": 2
}
