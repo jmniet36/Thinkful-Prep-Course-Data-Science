{
 "cells": [
  {
   "cell_type": "markdown",
   "metadata": {},
   "source": [
    "# Thinkful Prep Course: Unit 3.2¶\n",
    "## Project 8\n",
    "\n",
    "\n",
    "<br>\n",
    "<font size = \"2\"> You are on a game show and given the choice of whatever is behind three doors. Behind one door is a fantastic prize (some examples use a car, others use cash) while behind the other two doors is a dud (some examples say a goat, others say it's just empty). You pick a door. Then the host opens one of the other two doors to reveal a dud. But here's the wrinkle: the host now gives you the opportunity to switch your door. What should you do?</br>\n",
    "</font>"
   ]
  },
  {
   "cell_type": "markdown",
   "metadata": {},
   "source": [
    "<b>Answer:</b>\n",
    "\n",
    "If the host gives me the option of switching doors I would switch. \n",
    "\n",
    "Before choosing a door, there is a 1/3 probability that I would select the door that contains the prize(car). After the host reveals a door containing a dud, two doors remain to choose from, one of which contains a car. \n",
    "\n",
    "Using Bayes'rule, there is a 0% probability that the host will select the door that has the car. As this decision does not happen in a vacuum, the chances of one of the closed doors containing the car are 2/3, not 1/2.\n",
    "\n",
    "The only scenario in which I would not gain by switching doors is if I had initially picked the door with the car. "
   ]
  }
 ],
 "metadata": {
  "kernelspec": {
   "display_name": "Python 3",
   "language": "python",
   "name": "python3"
  },
  "language_info": {
   "codemirror_mode": {
    "name": "ipython",
    "version": 3
   },
   "file_extension": ".py",
   "mimetype": "text/x-python",
   "name": "python",
   "nbconvert_exporter": "python",
   "pygments_lexer": "ipython3",
   "version": "3.7.1"
  }
 },
 "nbformat": 4,
 "nbformat_minor": 2
}
